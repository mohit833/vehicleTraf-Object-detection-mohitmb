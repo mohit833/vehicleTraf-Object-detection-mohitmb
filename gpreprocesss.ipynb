{
 "cells": [
  {
   "cell_type": "code",
   "execution_count": null,
   "id": "a559d4c9-e783-4c4a-835f-6be37f48d530",
   "metadata": {},
   "outputs": [],
   "source": [
    "import cv2\n",
    "import numpy as np\n",
    "import os\n",
    "\n",
    "def preprocess_dataset(image_path):\n",
    "    for subdir, dirs, files in os.walk(\"/Users/mohitmb/Downloads/idd20kII/leftImg8bit/train\"):\n",
    "        for file in files:\n",
    "            # Load the image\n",
    "            image_path = os.path.join(subdir, file)\n",
    "            image = cv2.imread(image_path)\n",
    "\n",
    "            # Resize the image for SSD model input\n",
    "            image = cv2.resize(image, (300, 300))\n",
    "\n",
    "            # Subtract the mean RGB values\n",
    "            mean = np.array([123.68, 116.779, 103.939], dtype=np.float32)\n",
    "            image -= mean\n",
    "\n",
    "            # Convert the image to a blob for SSD input\n",
    "            blob = cv2.dnn.blobFromImage(image, 0.007843, (\n",
    "                300, 300), (127.5, 127.5, 127.5), swapRB=True)\n",
    "\n",
    "            # Perform SURF feature extraction on the image\n",
    "            surf = cv2.xfeatures2d.SURF_create()\n",
    "            keypoints, descriptors = surf.detectAndCompute(image, None)\n",
    "\n",
    "            # Save the preprocessed image and features\n",
    "            image_name = os.path.splitext(file)[0]\n",
    "            np.save(os.path.join(subdir, f'{image_name}_features.npy'), descriptors)\n",
    "            cv2.imwrite(os.path.join(subdir, f'{image_name}_processed.jpg'), image)"
   ]
  },
  {
   "cell_type": "code",
   "execution_count": null,
   "id": "7b6b0391-bebd-4bfc-b272-47d049c6d2b1",
   "metadata": {},
   "outputs": [],
   "source": []
  }
 ],
 "metadata": {
  "kernelspec": {
   "display_name": "Python 3.9 (tensorflow)",
   "language": "python",
   "name": "tensorflow"
  },
  "language_info": {
   "codemirror_mode": {
    "name": "ipython",
    "version": 3
   },
   "file_extension": ".py",
   "mimetype": "text/x-python",
   "name": "python",
   "nbconvert_exporter": "python",
   "pygments_lexer": "ipython3",
   "version": "3.9.13"
  }
 },
 "nbformat": 4,
 "nbformat_minor": 5
}

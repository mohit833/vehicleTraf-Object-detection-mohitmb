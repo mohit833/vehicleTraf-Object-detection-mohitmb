{
 "cells": [
  {
   "cell_type": "code",
   "execution_count": 5,
   "id": "36f0430a-6767-4680-988d-9ce188159331",
   "metadata": {
    "tags": []
   },
   "outputs": [],
   "source": [
    "import os\n",
    "import cv2\n",
    "import json\n",
    "import numpy as np\n",
    "\n",
    "# Define the path to the dataset\n",
    "dataset_path = \"/Users/mohitmb/Downloads/idd20kII\"\n",
    "\n",
    "# Define the paths to the training and validation directories\n",
    "train_dir = os.path.join(dataset_path, \"gtFine/train\")\n",
    "val_dir = os.path.join(dataset_path, \"gtFine/val\")\n",
    "\n",
    "# Define the function to load the images and annotations\n",
    "def load_data(directory):\n",
    "    images = []\n",
    "    annotations = []\n",
    "    for folder in os.listdir(directory):\n",
    "        folder_path = os.path.join(directory, folder)\n",
    "        if not os.path.isdir(folder_path):\n",
    "            continue\n",
    "        image_path = os.path.join(folder_path, \"leftImg8bit.jpg\")\n",
    "        annotation_path = os.path.join(folder_path, \"gtFine_polygons.json\")\n",
    "        images.append(cv2.imread(image_path))\n",
    "        with open(annotation_path, \"r\") as f:\n",
    "            annotation_data = json.load(f)\n",
    "            print(annotation_data)\n",
    "        annotations.append(annotation_data)\n",
    "    return images, annotations\n",
    "\n",
    "# Define the function to convert the annotation polygons to masks\n",
    "def polygons_to_mask(polygons, image_shape):\n",
    "    mask = np.zeros(image_shape[:2], dtype=np.uint8)\n",
    "    for polygon in polygons:\n",
    "        pts = np.array(polygon, np.int32)\n",
    "        pts = pts.reshape((-1,1,2))\n",
    "        cv2.fillPoly(mask,[pts],(255))\n",
    "    return mask.astype(np.uint8)\n",
    "\n",
    "# Load the training and validation data\n",
    "train_images, train_annotations = load_data(train_dir)\n",
    "val_images, val_annotations = load_data(val_dir)\n",
    "\n",
    "# Resize the images and convert the annotation polygons to masks\n",
    "image_size = (512, 1024)\n",
    "train_images = [cv2.resize(image, image_size) for image in train_images]\n",
    "train_masks = [polygons_to_mask(annotation[\"objects\"], image_size) for annotation in train_annotations]\n",
    "val_images = [cv2.resize(image, image_size) for image in val_images]\n",
    "val_masks = [polygons_to_mask(annotation[\"objects\"], image_size) for annotation in val_annotations]\n"
   ]
  },
  {
   "cell_type": "code",
   "execution_count": 6,
   "id": "e958b73e-455c-4640-aac8-3e7430189305",
   "metadata": {
    "collapsed": true,
    "jupyter": {
     "outputs_hidden": true
    },
    "tags": []
   },
   "outputs": [
    {
     "ename": "ModuleNotFoundError",
     "evalue": "No module named 'object_detection'",
     "output_type": "error",
     "traceback": [
      "\u001b[0;31m---------------------------------------------------------------------------\u001b[0m",
      "\u001b[0;31mModuleNotFoundError\u001b[0m                       Traceback (most recent call last)",
      "Input \u001b[0;32mIn [6]\u001b[0m, in \u001b[0;36m<cell line: 5>\u001b[0;34m()\u001b[0m\n\u001b[1;32m      3\u001b[0m \u001b[38;5;28;01mimport\u001b[39;00m \u001b[38;5;21;01mos\u001b[39;00m\n\u001b[1;32m      4\u001b[0m \u001b[38;5;28;01mimport\u001b[39;00m \u001b[38;5;21;01mnumpy\u001b[39;00m \u001b[38;5;28;01mas\u001b[39;00m \u001b[38;5;21;01mnp\u001b[39;00m\n\u001b[0;32m----> 5\u001b[0m \u001b[38;5;28;01mfrom\u001b[39;00m \u001b[38;5;21;01mobject_detection\u001b[39;00m\u001b[38;5;21;01m.\u001b[39;00m\u001b[38;5;21;01mutils\u001b[39;00m \u001b[38;5;28;01mimport\u001b[39;00m label_map_util\n\u001b[1;32m      6\u001b[0m \u001b[38;5;28;01mfrom\u001b[39;00m \u001b[38;5;21;01mobject_detection\u001b[39;00m\u001b[38;5;21;01m.\u001b[39;00m\u001b[38;5;21;01mutils\u001b[39;00m \u001b[38;5;28;01mimport\u001b[39;00m visualization_utils \u001b[38;5;28;01mas\u001b[39;00m viz_utils\n\u001b[1;32m      7\u001b[0m \u001b[38;5;28;01mfrom\u001b[39;00m \u001b[38;5;21;01mobject_detection\u001b[39;00m\u001b[38;5;21;01m.\u001b[39;00m\u001b[38;5;21;01mbuilders\u001b[39;00m \u001b[38;5;28;01mimport\u001b[39;00m model_builder\n",
      "\u001b[0;31mModuleNotFoundError\u001b[0m: No module named 'object_detection'"
     ]
    }
   ],
   "source": [
    "# Import necessary libraries\n",
    "import tensorflow as tf\n",
    "import os\n",
    "import numpy as np\n",
    "from object_detection.utils import label_map_util\n",
    "from object_detection.utils import visualization_utils as viz_utils\n",
    "from object_detection.builders import model_builder\n",
    "\n",
    "# Set up paths and parameters\n",
    "data_dir = \"/Users/mohitmb/Downloads/idd20kII/gtFine\"\n",
    "train_dir = os.path.join(data_dir, \"train\")\n",
    "val_dir = os.path.join(data_dir, \"val\")\n",
    "output_dir = \"/Users/mohitmb/Downloads/image\"\n",
    "pipeline_config_path = \"/Users/mohitmb/Downloads/idd20kII/yolov3_custom.cfg\"\n",
    "num_train_steps = 1000\n",
    "num_eval_steps = 100\n",
    "\n",
    "# Load the label map\n",
    "label_map_path = os.path.join(data_dir, \"label_map.pbtxt\")\n",
    "label_map = label_map_util.load_labelmap(label_map_path)\n",
    "categories = label_map_util.convert_label_map_to_categories(label_map, max_num_classes=90, use_display_name=True)\n",
    "category_index = label_map_util.create_category_index(categories)\n",
    "\n",
    "# Build the detection model\n",
    "pipeline_config = tf.compat.v1.train_pb2.TrainEvalPipelineConfig()\n",
    "with tf.io.gfile.GFile(pipeline_config_path, \"r\") as f:\n",
    "    proto_str = f.read()\n",
    "    tf.compat.v1.text_format.Merge(proto_str, pipeline_config)\n",
    "model_config = pipeline_config.model\n",
    "detection_model = model_builder.build(model_config=model_config, is_training=True)\n",
    "\n",
    "# Set up the training and evaluation datasets\n",
    "train_input_fn = get_input_fn(train_dir, batch_size=1, shuffle=True)\n",
    "eval_input_fn = get_input_fn(val_dir, batch_size=1, shuffle=False)\n",
    "\n",
    "# Train the model\n",
    "train_steps = num_train_steps\n",
    "eval_steps = num_eval_steps\n",
    "model_fn = detection_model_trainer.create_model_fn(detection_model)\n",
    "train_and_eval_dict = detection_model_trainer.train_and_evaluate(\n",
    "    model_fn=model_fn,\n",
    "    train_input_fn=train_input_fn,\n",
    "    eval_input_fn=eval_input_fn,\n",
    "    train_steps=train_steps,\n",
    "    eval_steps=eval_steps,\n",
    "    eval_metrics_fn=eval_metrics_fn,\n",
    "    **train_and_eval_dict_kwargs\n",
    ")\n",
    "\n",
    "# Export the trained model\n",
    "saved_model_dir = os.path.join(output_dir, \"exported_model\")\n",
    "tf.saved_model.save(detection_model, saved_model_dir)\n"
   ]
  },
  {
   "cell_type": "code",
   "execution_count": null,
   "id": "643243ba-41a2-4076-99f9-2f2ae4637482",
   "metadata": {},
   "outputs": [],
   "source": []
  },
  {
   "cell_type": "code",
   "execution_count": null,
   "id": "bcfb55ec-ee08-4c44-8e6c-2c6fec7afecc",
   "metadata": {},
   "outputs": [],
   "source": []
  }
 ],
 "metadata": {
  "kernelspec": {
   "display_name": "Python 3.9 (tensorflow)",
   "language": "python",
   "name": "tensorflow"
  },
  "language_info": {
   "codemirror_mode": {
    "name": "ipython",
    "version": 3
   },
   "file_extension": ".py",
   "mimetype": "text/x-python",
   "name": "python",
   "nbconvert_exporter": "python",
   "pygments_lexer": "ipython3",
   "version": "3.9.13"
  }
 },
 "nbformat": 4,
 "nbformat_minor": 5
}
